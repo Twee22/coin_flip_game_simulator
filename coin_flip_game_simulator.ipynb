{
 "cells": [
  {
   "cell_type": "code",
   "execution_count": 2,
   "id": "c90a0d77-07b0-4c54-bed0-1f025c748e1e",
   "metadata": {},
   "outputs": [],
   "source": [
    "def play_game():\n",
    "    num = 1\n",
    "    tf = False\n",
    "    while not tf:\n",
    "        tf = bool(random.getrandbits(1))\n",
    "        if tf:\n",
    "            return num\n",
    "        else:\n",
    "            num = num * 2"
   ]
  },
  {
   "cell_type": "code",
   "execution_count": 3,
   "id": "0600e307-c27e-4712-8099-c57eebf04523",
   "metadata": {},
   "outputs": [
    {
     "data": {
      "text/plain": [
       "2"
      ]
     },
     "execution_count": 3,
     "metadata": {},
     "output_type": "execute_result"
    }
   ],
   "source": [
    "play_game()"
   ]
  },
  {
   "cell_type": "code",
   "execution_count": 8,
   "id": "b56bcafd-9606-4ecd-a251-831768264ba3",
   "metadata": {},
   "outputs": [],
   "source": [
    "import random\n",
    "import numpy as np\n",
    "import math\n",
    "import matplotlib.pyplot as plt"
   ]
  },
  {
   "cell_type": "code",
   "execution_count": 13,
   "id": "fa393b4b-6917-42ba-8252-28cd023ab72c",
   "metadata": {},
   "outputs": [
    {
     "name": "stdout",
     "output_type": "stream",
     "text": [
      "12.92469519\n"
     ]
    }
   ],
   "source": [
    "num_tries = 100000000\n",
    "total_num = 0\n",
    "results = [0] * 100\n",
    "\n",
    "for i in range(num_tries):\n",
    "    res = play_game()\n",
    "    results[int(math.log(res, 2))] += 1\n",
    "    total_num += res\n",
    "    \n",
    "print(total_num / num_tries)"
   ]
  },
  {
   "cell_type": "code",
   "execution_count": 7,
   "id": "8d4b277f-1fd6-45dc-93b4-f5e2d2f854f1",
   "metadata": {},
   "outputs": [
    {
     "data": {
      "text/plain": [
       "[49992798,\n",
       " 25007498,\n",
       " 12500632,\n",
       " 6247307,\n",
       " 3125047,\n",
       " 1564567,\n",
       " 782553,\n",
       " 389601,\n",
       " 195118,\n",
       " 97776,\n",
       " 48633,\n",
       " 24258,\n",
       " 11986,\n",
       " 6012,\n",
       " 3094,\n",
       " 1540,\n",
       " 788,\n",
       " 381,\n",
       " 216,\n",
       " 107,\n",
       " 43,\n",
       " 25,\n",
       " 9,\n",
       " 5,\n",
       " 3,\n",
       " 3,\n",
       " 0,\n",
       " 0,\n",
       " 0,\n",
       " 0,\n",
       " 0,\n",
       " 0,\n",
       " 0,\n",
       " 0,\n",
       " 0,\n",
       " 0,\n",
       " 0,\n",
       " 0,\n",
       " 0,\n",
       " 0,\n",
       " 0,\n",
       " 0,\n",
       " 0,\n",
       " 0,\n",
       " 0,\n",
       " 0,\n",
       " 0,\n",
       " 0,\n",
       " 0,\n",
       " 0,\n",
       " 0,\n",
       " 0,\n",
       " 0,\n",
       " 0,\n",
       " 0,\n",
       " 0,\n",
       " 0,\n",
       " 0,\n",
       " 0,\n",
       " 0,\n",
       " 0,\n",
       " 0,\n",
       " 0,\n",
       " 0,\n",
       " 0,\n",
       " 0,\n",
       " 0,\n",
       " 0,\n",
       " 0,\n",
       " 0,\n",
       " 0,\n",
       " 0,\n",
       " 0,\n",
       " 0,\n",
       " 0,\n",
       " 0,\n",
       " 0,\n",
       " 0,\n",
       " 0,\n",
       " 0,\n",
       " 0,\n",
       " 0,\n",
       " 0,\n",
       " 0,\n",
       " 0,\n",
       " 0,\n",
       " 0,\n",
       " 0,\n",
       " 0,\n",
       " 0,\n",
       " 0,\n",
       " 0,\n",
       " 0,\n",
       " 0,\n",
       " 0,\n",
       " 0,\n",
       " 0,\n",
       " 0,\n",
       " 0,\n",
       " 0]"
      ]
     },
     "execution_count": 7,
     "metadata": {},
     "output_type": "execute_result"
    }
   ],
   "source": [
    "results"
   ]
  },
  {
   "cell_type": "code",
   "execution_count": 11,
   "id": "817edc67-2e32-48c9-9eab-846092b1b078",
   "metadata": {},
   "outputs": [
    {
     "data": {
      "text/plain": [
       "[<matplotlib.lines.Line2D at 0x252893cd670>]"
      ]
     },
     "execution_count": 11,
     "metadata": {},
     "output_type": "execute_result"
    },
    {
     "data": {
      "image/png": "[encoded data removed]",
      "text/plain": [
       "<Figure size 432x288 with 1 Axes>"
      ]
     },
     "metadata": {
      "needs_background": "light"
     },
     "output_type": "display_data"
    }
   ],
   "source": [
    "x = range(100)\n",
    "plt.plot(x, results)"
   ]
  },
  {
   "cell_type": "code",
   "execution_count": null,
   "id": "3913c5c2-b0c9-4eb1-98ab-664ce35e6b91",
   "metadata": {},
   "outputs": [],
   "source": []
  }
 ],
 "metadata": {
  "kernelspec": {
   "display_name": "Python 3 (ipykernel)",
   "language": "python",
   "name": "python3"
  },
  "language_info": {
   "codemirror_mode": {
    "name": "ipython",
    "version": 3
   },
   "file_extension": ".py",
   "mimetype": "text/x-python",
   "name": "python",
   "nbconvert_exporter": "python",
   "pygments_lexer": "ipython3",
   "version": "3.9.12"
  }
 },
 "nbformat": 4,
 "nbformat_minor": 5
}
