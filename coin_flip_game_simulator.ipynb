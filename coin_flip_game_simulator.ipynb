{
 "cells": [
  {
   "cell_type": "code",
   "execution_count": 1,
   "id": "00727a2f-aff5-4475-970f-cefe0332734b",
   "metadata": {},
   "outputs": [],
   "source": [
    "import random\n",
    "import numpy as np\n",
    "import math\n",
    "import matplotlib.pyplot as plt"
   ]
  },
  {
   "cell_type": "code",
   "execution_count": 2,
   "id": "79376e02-011f-4db6-8b92-e04e6b575020",
   "metadata": {},
   "outputs": [],
   "source": [
    "def play_game():\n",
    "    num = 1\n",
    "    tf = False\n",
    "    while not tf:\n",
    "        tf = bool(random.getrandbits(1))\n",
    "        if tf:\n",
    "            return num\n",
    "        else:\n",
    "            num = num * 2"
   ]
  },
  {
   "cell_type": "code",
   "execution_count": 3,
   "id": "08d3cb44-bc19-44c5-a495-bb65ad7cd217",
   "metadata": {},
   "outputs": [
    {
     "data": {
      "text/plain": [
       "8"
      ]
     },
     "execution_count": 3,
     "metadata": {},
     "output_type": "execute_result"
    }
   ],
   "source": [
    "play_game()"
   ]
  },
  {
   "cell_type": "code",
   "execution_count": 4,
   "id": "7d373087-692d-46c9-b0f0-5a18b5019c19",
   "metadata": {},
   "outputs": [
    {
     "name": "stdout",
     "output_type": "stream",
     "text": [
      "11.9627905\n"
     ]
    }
   ],
   "source": [
    "num_tries = 100000000\n",
    "total_num = 0\n",
    "results = [0] * 100\n",
    "\n",
    "for i in range(num_tries):\n",
    "    res = play_game()\n",
    "    results[int(math.log(res, 2))] += 1\n",
    "    total_num += res\n",
    "    \n",
    "print(total_num / num_tries)"
   ]
  },
  {
   "cell_type": "code",
   "execution_count": 5,
   "id": "05290d77-27f6-43a2-b208-4b8e05503b98",
   "metadata": {},
   "outputs": [
    {
     "data": {
      "text/plain": [
       "[50002438,\n",
       " 24998854,\n",
       " 12501154,\n",
       " 6251722,\n",
       " 3122252,\n",
       " 1561561,\n",
       " 780559,\n",
       " 391356,\n",
       " 195457,\n",
       " 97334,\n",
       " 48713,\n",
       " 24321,\n",
       " 12046,\n",
       " 6109,\n",
       " 2983,\n",
       " 1596,\n",
       " 767,\n",
       " 397,\n",
       " 197,\n",
       " 96,\n",
       " 57,\n",
       " 17,\n",
       " 7,\n",
       " 6,\n",
       " 1,\n",
       " 0,\n",
       " 0,\n",
       " 0,\n",
       " 0,\n",
       " 0,\n",
       " 0,\n",
       " 0,\n",
       " 0,\n",
       " 0,\n",
       " 0,\n",
       " 0,\n",
       " 0,\n",
       " 0,\n",
       " 0,\n",
       " 0,\n",
       " 0,\n",
       " 0,\n",
       " 0,\n",
       " 0,\n",
       " 0,\n",
       " 0,\n",
       " 0,\n",
       " 0,\n",
       " 0,\n",
       " 0,\n",
       " 0,\n",
       " 0,\n",
       " 0,\n",
       " 0,\n",
       " 0,\n",
       " 0,\n",
       " 0,\n",
       " 0,\n",
       " 0,\n",
       " 0,\n",
       " 0,\n",
       " 0,\n",
       " 0,\n",
       " 0,\n",
       " 0,\n",
       " 0,\n",
       " 0,\n",
       " 0,\n",
       " 0,\n",
       " 0,\n",
       " 0,\n",
       " 0,\n",
       " 0,\n",
       " 0,\n",
       " 0,\n",
       " 0,\n",
       " 0,\n",
       " 0,\n",
       " 0,\n",
       " 0,\n",
       " 0,\n",
       " 0,\n",
       " 0,\n",
       " 0,\n",
       " 0,\n",
       " 0,\n",
       " 0,\n",
       " 0,\n",
       " 0,\n",
       " 0,\n",
       " 0,\n",
       " 0,\n",
       " 0,\n",
       " 0,\n",
       " 0,\n",
       " 0,\n",
       " 0,\n",
       " 0,\n",
       " 0,\n",
       " 0]"
      ]
     },
     "execution_count": 5,
     "metadata": {},
     "output_type": "execute_result"
    }
   ],
   "source": [
    "results"
   ]
  },
  {
   "cell_type": "code",
   "execution_count": 6,
   "id": "f5d1014c-a524-4ac0-b136-404b51d249ba",
   "metadata": {},
   "outputs": [
    {
     "data": {
      "text/plain": [
       "[<matplotlib.lines.Line2D at 0x12c35a01c10>]"
      ]
     },
     "execution_count": 6,
     "metadata": {},
     "output_type": "execute_result"
    },
    {
     "data": {
      "image/png": "[encoded data removed]",
      "text/plain": [
       "<Figure size 432x288 with 1 Axes>"
      ]
     },
     "metadata": {
      "needs_background": "light"
     },
     "output_type": "display_data"
    }
   ],
   "source": [
    "x = range(100)\n",
    "plt.plot(x, results)"
   ]
  },
  {
   "cell_type": "code",
   "execution_count": null,
   "id": "d24e1db1-2999-498c-a1b5-8f0848bef1cc",
   "metadata": {},
   "outputs": [],
   "source": []
  }
 ],
 "metadata": {
  "kernelspec": {
   "display_name": "Python 3 (ipykernel)",
   "language": "python",
   "name": "python3"
  },
  "language_info": {
   "codemirror_mode": {
    "name": "ipython",
    "version": 3
   },
   "file_extension": ".py",
   "mimetype": "text/x-python",
   "name": "python",
   "nbconvert_exporter": "python",
   "pygments_lexer": "ipython3",
   "version": "3.9.12"
  }
 },
 "nbformat": 4,
 "nbformat_minor": 5
}
